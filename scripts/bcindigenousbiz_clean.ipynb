{
 "cells": [
  {
   "cell_type": "code",
   "execution_count": 1,
   "id": "c791eb50-1acf-4ccb-8ae0-cb92f92273f8",
   "metadata": {},
   "outputs": [],
   "source": [
    "import pandas as pd\n",
    "import numpy as np\n",
    "import re"
   ]
  },
  {
   "cell_type": "markdown",
   "id": "4b86c9d5-1276-4d60-a348-21570e05fb81",
   "metadata": {},
   "source": [
    "Load the raw data"
   ]
  },
  {
   "cell_type": "code",
   "execution_count": 2,
   "id": "027272ea-38d4-4877-9dc2-9687174f6bd7",
   "metadata": {},
   "outputs": [],
   "source": [
    "# Load the data\n",
    "df = pd.read_csv(\"../data/raw/indigenous-business/bcindigenousbusinesslistings.csv\")"
   ]
  },
  {
   "cell_type": "markdown",
   "id": "68a209e8-a7a3-45ed-bc7b-e4e0ba9239f3",
   "metadata": {},
   "source": [
    "Inspecting the data"
   ]
  },
  {
   "cell_type": "code",
   "execution_count": 3,
   "id": "4a433da2-f13b-48c4-8384-18b35985d493",
   "metadata": {},
   "outputs": [
    {
     "name": "stdout",
     "output_type": "stream",
     "text": [
      "<class 'pandas.core.frame.DataFrame'>\n",
      "RangeIndex: 1259 entries, 0 to 1258\n",
      "Data columns (total 12 columns):\n",
      " #   Column               Non-Null Count  Dtype  \n",
      "---  ------               --------------  -----  \n",
      " 0   Business Name        1259 non-null   object \n",
      " 1   Description          1135 non-null   object \n",
      " 2   Web Site             699 non-null    object \n",
      " 3   City                 1258 non-null   object \n",
      " 4   Latitude             1258 non-null   float64\n",
      " 5   Longitude            1258 non-null   float64\n",
      " 6   Keywords             1257 non-null   object \n",
      " 7   Region               1259 non-null   object \n",
      " 8   Type                 1123 non-null   object \n",
      " 9   Industry Sector      1222 non-null   object \n",
      " 10  Year Formed          648 non-null    float64\n",
      " 11  Number of Employees  572 non-null    object \n",
      "dtypes: float64(3), object(9)\n",
      "memory usage: 118.2+ KB\n",
      "None\n",
      "                                       Business Name  \\\n",
      "0                                Ellipsis Energy Inc   \n",
      "1  Indigenous Community Development & Prosperity ...   \n",
      "2                         Formline Construction Ltd.   \n",
      "3                          Quilakwa Investments Ltd.   \n",
      "4                                      Quilakwa Esso   \n",
      "\n",
      "                                         Description  \\\n",
      "0  Ellipsis Energy Inc is an Aboriginal owned com...   \n",
      "1  ICDPRO works together with Indigenous communit...   \n",
      "2  With over combined 30 years of experience in t...   \n",
      "3  Quilakwa Investments Ltd. oversees several Ind...   \n",
      "4  Quilakwa Esso is owned by the Splatsin Indian ...   \n",
      "\n",
      "                                      Web Site           City   Latitude  \\\n",
      "0                 http://www.ellipsisenergy.ca  Moberly Lake   55.819370   \n",
      "1  https://indigenouscommunitydevelopment.com/        Enderby  50.551498   \n",
      "2                        https://www.flcon.ca/        Burnaby  49.266050   \n",
      "3                    http://www.splatsindc.com        Enderby  50.537507   \n",
      "4                                          NaN        Enderby  50.537507   \n",
      "\n",
      "    Longitude                                           Keywords  \\\n",
      "0 -121.834602  Ellipsis Energy Inc 21 – Mining, quarrying, an...   \n",
      "1 -119.133546  Indigenous Community Development & Prosperity ...   \n",
      "2  123.005840       Formline Construction Ltd. 23 – Construction   \n",
      "3 -119.141955                          Quilakwa Investments Ltd.   \n",
      "4 -119.141955                 Quilakwa Esso 44-45 - Retail trade   \n",
      "\n",
      "                       Region                     Type  \\\n",
      "0                   Northeast          Private Company   \n",
      "1         Thompson / Okanagan          Private Company   \n",
      "2  Lower Mainland / Southwest          Private Company   \n",
      "3         Thompson / Okanagan  Community Owned Company   \n",
      "4         Thompson / Okanagan  Community Owned Company   \n",
      "\n",
      "                                     Industry Sector  Year Formed  \\\n",
      "0  21 – Mining, quarrying, and oil and gas extrac...       2012.0   \n",
      "1  81 – Other services (except public administrat...       2020.0   \n",
      "2                                  23 – Construction       2021.0   \n",
      "3               72 – Accommodation and food services       1984.0   \n",
      "4                               44-45 - Retail trade       1984.0   \n",
      "\n",
      "  Number of Employees  \n",
      "0              5 to 9  \n",
      "1              1 to 4  \n",
      "2              1 to 4  \n",
      "3            20 to 49  \n",
      "4            10 to 19  \n",
      "Initial number of rows: 1259\n"
     ]
    }
   ],
   "source": [
    "# Inspect the data\n",
    "print(df.info())\n",
    "print(df.head())\n",
    "print(f\"Initial number of rows: {len(df)}\") "
   ]
  },
  {
   "cell_type": "markdown",
   "id": "65e7247a-7412-49c0-a82d-f0e2fbad5602",
   "metadata": {},
   "source": [
    "Column Name Standardization"
   ]
  },
  {
   "cell_type": "code",
   "execution_count": 4,
   "id": "fd6eef16-28c2-4b3e-aed3-a577b48785cf",
   "metadata": {},
   "outputs": [],
   "source": [
    "#  Clean column names (convert to lowercase and replace spaces with underscores)\n",
    "df.columns = df.columns.str.strip().str.lower().str.replace(' ', '_')"
   ]
  },
  {
   "cell_type": "markdown",
   "id": "913247cd-0aca-42d6-af06-94246c9f3fe0",
   "metadata": {},
   "source": [
    "Remove Unnecessary Columns"
   ]
  },
  {
   "cell_type": "code",
   "execution_count": 5,
   "id": "e45d8a1d-76c5-4122-9995-17bc8cd67a70",
   "metadata": {},
   "outputs": [],
   "source": [
    "# Remove unnecessary columns\n",
    "columns_to_drop = ['description', 'web_site', 'keywords']\n",
    "df = df.drop(columns=columns_to_drop, errors='ignore')"
   ]
  },
  {
   "cell_type": "markdown",
   "id": "33a897a9-981c-4a72-bedd-29bde0f6807b",
   "metadata": {},
   "source": [
    "Removal of Duplicates"
   ]
  },
  {
   "cell_type": "code",
   "execution_count": 6,
   "id": "fcfabc7b-455e-47a7-a020-3cb640006b4a",
   "metadata": {},
   "outputs": [],
   "source": [
    "# Remove duplicate rows\n",
    "df = df.drop_duplicates()"
   ]
  },
  {
   "cell_type": "code",
   "execution_count": 7,
   "id": "5eb7bb63-b0ff-46ff-915c-f5cdd2267ed2",
   "metadata": {},
   "outputs": [
    {
     "name": "stdout",
     "output_type": "stream",
     "text": [
      "No of rows after removing duplicates: 1259\n"
     ]
    }
   ],
   "source": [
    "# check no of rows after removing duplicates\n",
    "print(f\"No of rows after removing duplicates: {len(df)}\") "
   ]
  },
  {
   "cell_type": "markdown",
   "id": "5589b07b-efe6-4c45-88bb-9a3cc4052e0f",
   "metadata": {},
   "source": [
    "Critical Data Validation"
   ]
  },
  {
   "cell_type": "code",
   "execution_count": 8,
   "id": "3aca369c-2158-40f0-9b74-983a5c212bb8",
   "metadata": {},
   "outputs": [],
   "source": [
    "# Remove rows missing critical information\n",
    "#business_name is a mandatory field here\n",
    "if 'business_name' in df.columns:\n",
    "    df = df[df['business_name'].notna() & (df['business_name'] != '')]"
   ]
  },
  {
   "cell_type": "code",
   "execution_count": 9,
   "id": "bdaeee1d-878a-470b-be58-d37b2a88e3b3",
   "metadata": {},
   "outputs": [
    {
     "name": "stdout",
     "output_type": "stream",
     "text": [
      "No of rows: 1259\n"
     ]
    }
   ],
   "source": [
    "# check no of rows after removing rows missing critical information\n",
    "print(f\"No of rows: {len(df)}\") "
   ]
  },
  {
   "cell_type": "markdown",
   "id": "9a58f0e0-b425-4e5f-867e-5fbc17d7ba75",
   "metadata": {},
   "source": [
    "Ensure Year is an integer"
   ]
  },
  {
   "cell_type": "code",
   "execution_count": 10,
   "id": "99dc27ee-c950-484d-87a7-8f3b00bbbe70",
   "metadata": {},
   "outputs": [],
   "source": [
    "# Ensure year_formed is a nullable integer\n",
    "df['year_formed'] = pd.to_numeric(df['year_formed'], errors='coerce').astype('Int64')"
   ]
  },
  {
   "cell_type": "markdown",
   "id": "4d50745b-b117-4dbe-846d-091965fc6c29",
   "metadata": {},
   "source": [
    "Cleanup industry_sector"
   ]
  },
  {
   "cell_type": "code",
   "execution_count": 11,
   "id": "53232530-138b-43f7-b1d4-6bbb93dbddb6",
   "metadata": {},
   "outputs": [
    {
     "name": "stdout",
     "output_type": "stream",
     "text": [
      "test cleaning:\n",
      "':54 – Professional, scientific and technical services' → 'Professional, scientific and technical services'\n"
     ]
    }
   ],
   "source": [
    "# custom function to standardize industry_sector data\n",
    "def clean_industry_sector(sector):\n",
    "    if pd.isna(sector):\n",
    "        return np.nan\n",
    "    \n",
    "    # Convert to string\n",
    "    sector = str(sector).strip()\n",
    "    \n",
    "    # Handle cases starting with colon\n",
    "    if sector.startswith(':'):\n",
    "        sector = sector[1:].strip()\n",
    "    \n",
    "    # Remove ALL number patterns including:\n",
    "    # \"23 - \", \"44-45 - \", \"1.5 - \", \"54 – \" (with en dash)\n",
    "    sector = re.sub(r'^[\\d\\.]+\\s*[-–—]?\\s*[\\d\\.]*\\s*[-–—]\\s*', '', sector).strip()\n",
    "    \n",
    "    # Return np.nan if empty, otherwise capitalize first letter\n",
    "    return np.nan if not sector else sector[0].upper() + sector[1:]\n",
    "\n",
    "\n",
    "print(\"test cleaning:\")\n",
    "test_case = \":54 – Professional, scientific and technical services\"\n",
    "print(f\"'{test_case}' → '{clean_industry_sector(test_case)}'\")\n",
    "\n",
    "\n",
    "df['industry_sector'] = df['industry_sector'].apply(clean_industry_sector)"
   ]
  },
  {
   "cell_type": "markdown",
   "id": "3512e3d7-07c8-4e06-a4cc-eaea7dc4026d",
   "metadata": {},
   "source": [
    "Data Formatting"
   ]
  },
  {
   "cell_type": "code",
   "execution_count": 12,
   "id": "b4a87247-bba2-4304-8fa5-f1f4d0cd88fc",
   "metadata": {},
   "outputs": [],
   "source": [
    "# Trim whitespace in string fields\n",
    "text_cols = ['business_name', 'city', 'industry_sector','region','type']\n",
    "df[text_cols] = df[text_cols].apply(lambda x: x.str.strip())"
   ]
  },
  {
   "cell_type": "markdown",
   "id": "b9f3b63f-b510-48cb-a507-c619b623ee39",
   "metadata": {},
   "source": [
    "Save the Cleaned data"
   ]
  },
  {
   "cell_type": "code",
   "execution_count": 13,
   "id": "35df9bcd-c0d8-4336-8c2c-cd5482680528",
   "metadata": {},
   "outputs": [],
   "source": [
    "# Save cleaned data\n",
    "df.to_csv(\"cleaned_indigenous_businesses.csv\", index=False)"
   ]
  },
  {
   "cell_type": "markdown",
   "id": "8c80c424-e5ce-4cdf-b456-13f9775d94ed",
   "metadata": {},
   "source": [
    "Validation of Cleaned Data"
   ]
  },
  {
   "cell_type": "code",
   "execution_count": 14,
   "id": "591a7af2-5eff-4bbd-b80b-5b702e96b1fe",
   "metadata": {},
   "outputs": [
    {
     "name": "stdout",
     "output_type": "stream",
     "text": [
      "Final cleaned dataset rows: 1259\n"
     ]
    },
    {
     "data": {
      "text/html": [
       "<div>\n",
       "<style scoped>\n",
       "    .dataframe tbody tr th:only-of-type {\n",
       "        vertical-align: middle;\n",
       "    }\n",
       "\n",
       "    .dataframe tbody tr th {\n",
       "        vertical-align: top;\n",
       "    }\n",
       "\n",
       "    .dataframe thead th {\n",
       "        text-align: right;\n",
       "    }\n",
       "</style>\n",
       "<table border=\"1\" class=\"dataframe\">\n",
       "  <thead>\n",
       "    <tr style=\"text-align: right;\">\n",
       "      <th></th>\n",
       "      <th>business_name</th>\n",
       "      <th>city</th>\n",
       "      <th>latitude</th>\n",
       "      <th>longitude</th>\n",
       "      <th>region</th>\n",
       "      <th>type</th>\n",
       "      <th>industry_sector</th>\n",
       "      <th>year_formed</th>\n",
       "      <th>number_of_employees</th>\n",
       "    </tr>\n",
       "  </thead>\n",
       "  <tbody>\n",
       "    <tr>\n",
       "      <th>0</th>\n",
       "      <td>Ellipsis Energy Inc</td>\n",
       "      <td>Moberly Lake</td>\n",
       "      <td>55.819370</td>\n",
       "      <td>-121.834602</td>\n",
       "      <td>Northeast</td>\n",
       "      <td>Private Company</td>\n",
       "      <td>Mining, quarrying, and oil and gas extraction</td>\n",
       "      <td>2012.0</td>\n",
       "      <td>5 to 9</td>\n",
       "    </tr>\n",
       "    <tr>\n",
       "      <th>1</th>\n",
       "      <td>Indigenous Community Development &amp; Prosperity ...</td>\n",
       "      <td>Enderby</td>\n",
       "      <td>50.551498</td>\n",
       "      <td>-119.133546</td>\n",
       "      <td>Thompson / Okanagan</td>\n",
       "      <td>Private Company</td>\n",
       "      <td>Other services (except public administration)</td>\n",
       "      <td>2020.0</td>\n",
       "      <td>1 to 4</td>\n",
       "    </tr>\n",
       "    <tr>\n",
       "      <th>2</th>\n",
       "      <td>Formline Construction Ltd.</td>\n",
       "      <td>Burnaby</td>\n",
       "      <td>49.266050</td>\n",
       "      <td>123.005840</td>\n",
       "      <td>Lower Mainland / Southwest</td>\n",
       "      <td>Private Company</td>\n",
       "      <td>Construction</td>\n",
       "      <td>2021.0</td>\n",
       "      <td>1 to 4</td>\n",
       "    </tr>\n",
       "    <tr>\n",
       "      <th>3</th>\n",
       "      <td>Quilakwa Investments Ltd.</td>\n",
       "      <td>Enderby</td>\n",
       "      <td>50.537507</td>\n",
       "      <td>-119.141955</td>\n",
       "      <td>Thompson / Okanagan</td>\n",
       "      <td>Community Owned Company</td>\n",
       "      <td>Accommodation and food services</td>\n",
       "      <td>1984.0</td>\n",
       "      <td>20 to 49</td>\n",
       "    </tr>\n",
       "    <tr>\n",
       "      <th>4</th>\n",
       "      <td>Quilakwa Esso</td>\n",
       "      <td>Enderby</td>\n",
       "      <td>50.537507</td>\n",
       "      <td>-119.141955</td>\n",
       "      <td>Thompson / Okanagan</td>\n",
       "      <td>Community Owned Company</td>\n",
       "      <td>Retail trade</td>\n",
       "      <td>1984.0</td>\n",
       "      <td>10 to 19</td>\n",
       "    </tr>\n",
       "  </tbody>\n",
       "</table>\n",
       "</div>"
      ],
      "text/plain": [
       "                                       business_name          city   latitude  \\\n",
       "0                                Ellipsis Energy Inc  Moberly Lake  55.819370   \n",
       "1  Indigenous Community Development & Prosperity ...       Enderby  50.551498   \n",
       "2                         Formline Construction Ltd.       Burnaby  49.266050   \n",
       "3                          Quilakwa Investments Ltd.       Enderby  50.537507   \n",
       "4                                      Quilakwa Esso       Enderby  50.537507   \n",
       "\n",
       "    longitude                      region                     type  \\\n",
       "0 -121.834602                   Northeast          Private Company   \n",
       "1 -119.133546         Thompson / Okanagan          Private Company   \n",
       "2  123.005840  Lower Mainland / Southwest          Private Company   \n",
       "3 -119.141955         Thompson / Okanagan  Community Owned Company   \n",
       "4 -119.141955         Thompson / Okanagan  Community Owned Company   \n",
       "\n",
       "                                 industry_sector  year_formed  \\\n",
       "0  Mining, quarrying, and oil and gas extraction       2012.0   \n",
       "1  Other services (except public administration)       2020.0   \n",
       "2                                   Construction       2021.0   \n",
       "3                Accommodation and food services       1984.0   \n",
       "4                                   Retail trade       1984.0   \n",
       "\n",
       "  number_of_employees  \n",
       "0              5 to 9  \n",
       "1              1 to 4  \n",
       "2              1 to 4  \n",
       "3            20 to 49  \n",
       "4            10 to 19  "
      ]
     },
     "execution_count": 14,
     "metadata": {},
     "output_type": "execute_result"
    }
   ],
   "source": [
    "# Validate cleaned data\n",
    "clean_data= pd.read_csv(\"bcindigenousbiz_clean.csv\")\n",
    "print(f\"Final cleaned dataset rows: {len(clean_data)}\")  # Final row count\n",
    "clean_data.head()"
   ]
  }
 ],
 "metadata": {
  "kernelspec": {
   "display_name": "Python [conda env:base] *",
   "language": "python",
   "name": "conda-base-py"
  },
  "language_info": {
   "codemirror_mode": {
    "name": "ipython",
    "version": 3
   },
   "file_extension": ".py",
   "mimetype": "text/x-python",
   "name": "python",
   "nbconvert_exporter": "python",
   "pygments_lexer": "ipython3",
   "version": "3.9.21"
  }
 },
 "nbformat": 4,
 "nbformat_minor": 5
}
